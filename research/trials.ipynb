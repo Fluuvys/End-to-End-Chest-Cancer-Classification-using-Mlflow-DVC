{
 "cells": [
  {
   "cell_type": "code",
   "execution_count": 1,
   "id": "3736218e",
   "metadata": {},
   "outputs": [],
   "source": [
    "### Download data from google drive\n",
    "import gdown\n"
   ]
  },
  {
   "cell_type": "code",
   "execution_count": 2,
   "id": "cfe8c3cb",
   "metadata": {},
   "outputs": [],
   "source": [
    "url = \"https://drive.google.com/file/d/1kfDX82hOYkNXabwr3AZl4J67AAxDzbeH/view?usp=sharing\""
   ]
  },
  {
   "cell_type": "code",
   "execution_count": 5,
   "id": "e7d58f67",
   "metadata": {},
   "outputs": [
    {
     "data": {
      "text/plain": [
       "'1kfDX82hOYkNXabwr3AZl4J67AAxDzbeH'"
      ]
     },
     "execution_count": 5,
     "metadata": {},
     "output_type": "execute_result"
    }
   ],
   "source": [
    "file_id = url.split(\"/\")[-2]\n",
    "file_id"
   ]
  },
  {
   "cell_type": "code",
   "execution_count": 6,
   "id": "80d8bb9f",
   "metadata": {},
   "outputs": [
    {
     "name": "stderr",
     "output_type": "stream",
     "text": [
      "Downloading...\n",
      "From (original): https://drive.google.com/uc?/export-download&id=1kfDX82hOYkNXabwr3AZl4J67AAxDzbeH\n",
      "From (redirected): https://drive.google.com/uc?id=1kfDX82hOYkNXabwr3AZl4J67AAxDzbeH&confirm=t&uuid=d87cc0e4-0da8-4184-aca0-2085fd8ea48a\n",
      "To: d:\\Personal Projects\\End-to-End-Chest-Cancer-Classification-using-Mlflow-DVC\\research\\Chest-CT-Scan-data.zip\n",
      "100%|██████████| 124M/124M [00:04<00:00, 28.5MB/s] \n"
     ]
    },
    {
     "data": {
      "text/plain": [
       "'Chest-CT-Scan-data.zip'"
      ]
     },
     "execution_count": 6,
     "metadata": {},
     "output_type": "execute_result"
    }
   ],
   "source": [
    "prefix = 'https://drive.google.com/uc?/export-download&id='\n",
    "gdown.download(prefix + file_id, \"Chest-CT-Scan-data.zip\")"
   ]
  }
 ],
 "metadata": {
  "kernelspec": {
   "display_name": "cancer",
   "language": "python",
   "name": "python3"
  },
  "language_info": {
   "codemirror_mode": {
    "name": "ipython",
    "version": 3
   },
   "file_extension": ".py",
   "mimetype": "text/x-python",
   "name": "python",
   "nbconvert_exporter": "python",
   "pygments_lexer": "ipython3",
   "version": "3.9.23"
  }
 },
 "nbformat": 4,
 "nbformat_minor": 5
}
